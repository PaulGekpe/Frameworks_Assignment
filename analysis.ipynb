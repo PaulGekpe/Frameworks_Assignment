{
 "cells": [
  {
   "cell_type": "code",
   "execution_count": null,
   "id": "a8616072",
   "metadata": {
    "vscode": {
     "languageId": "plaintext"
    }
   },
   "outputs": [],
   "source": [
    "import pandas as pd\n",
    "import matplotlib.pyplot as plt\n",
    "import seaborn as sns\n",
    "from wordcloud import WordCloud\n",
    "\n",
    "# Load dataset\n",
    "df = pd.read_csv(\"data/metadata.csv\")\n",
    "\n",
    "# Basic exploration\n",
    "print(df.shape)\n",
    "print(df.dtypes)\n",
    "print(df.isnull().sum())\n",
    "print(df.describe())\n",
    "\n",
    "# Data cleaning\n",
    "df['publish_time'] = pd.to_datetime(df['publish_time'], errors='coerce')\n",
    "df['year'] = df['publish_time'].dt.year\n",
    "df['abstract_word_count'] = df['abstract'].fillna(\"\").apply(lambda x: len(x.split()))\n",
    "\n",
    "# Analysis\n",
    "papers_per_year = df['year'].value_counts().sort_index()\n",
    "top_journals = df['journal'].value_counts().head(10)\n",
    "\n",
    "# Visualizations\n",
    "plt.figure(figsize=(8,5))\n",
    "sns.countplot(x='year', data=df)\n",
    "plt.title(\"Publications per Year\")\n",
    "plt.show()\n",
    "\n",
    "plt.figure(figsize=(8,5))\n",
    "top_journals.plot(kind='bar')\n",
    "plt.title(\"Top Journals\")\n",
    "plt.show()\n",
    "\n",
    "# Word cloud\n",
    "text = \" \".join(df['title'].dropna())\n",
    "wc = WordCloud(width=800, height=400, background_color='white').generate(text)\n",
    "plt.imshow(wc, interpolation='bilinear')\n",
    "plt.axis('off')\n",
    "plt.show()\n"
   ]
  }
 ],
 "metadata": {
  "language_info": {
   "name": "python"
  }
 },
 "nbformat": 4,
 "nbformat_minor": 5
}
